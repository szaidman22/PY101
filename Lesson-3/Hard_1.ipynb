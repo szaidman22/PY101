{
 "cells": [
  {
   "cell_type": "markdown",
   "metadata": {},
   "source": [
    "### Question 1\n",
    "\n",
    "Will the following functions return the same results?"
   ]
  },
  {
   "cell_type": "code",
   "execution_count": 1,
   "metadata": {},
   "outputs": [
    {
     "name": "stdout",
     "output_type": "stream",
     "text": [
      "{'prop1': 'hi there'}\n",
      "None\n"
     ]
    }
   ],
   "source": [
    "def first():\n",
    "    return {\n",
    "        'prop1': \"hi there\",\n",
    "    }\n",
    "\n",
    "def second():\n",
    "    return\n",
    "    {\n",
    "        'prop1': \"hi there\",\n",
    "    }\n",
    "\n",
    "print(first())\n",
    "print(second())"
   ]
  },
  {
   "cell_type": "markdown",
   "metadata": {},
   "source": [
    "yes??\n",
    "\n",
    "actual answer is - if there is nothing after the return statement, it will return none. In the second function there is nothing following the return statement directly. The block after the return statement isn't returned."
   ]
  },
  {
   "cell_type": "markdown",
   "metadata": {},
   "source": [
    "### Question 2\n",
    "\n",
    "What does the last line in the following code output?"
   ]
  },
  {
   "cell_type": "code",
   "execution_count": 2,
   "metadata": {},
   "outputs": [
    {
     "name": "stdout",
     "output_type": "stream",
     "text": [
      "[1, 2]\n",
      "{'first': [1, 2]}\n"
     ]
    }
   ],
   "source": [
    "dictionary = {'first': [1]}\n",
    "num_list = dictionary['first']\n",
    "num_list.append(2)\n",
    "\n",
    "print(num_list)\n",
    "print(dictionary)"
   ]
  },
  {
   "cell_type": "markdown",
   "metadata": {},
   "source": [
    "num_list is initiated to reference the list object corresponding to the value for key 'first' in dicionary.\n",
    "\n",
    "then 2 is added to num_list with the num_list.append(2) method call. This mutates the original num_list object, which is still referenced by dicionary.\n",
    "\n",
    "dictionary will now be {'first': [1,2]}"
   ]
  },
  {
   "cell_type": "markdown",
   "metadata": {},
   "source": [
    "### Question 3\n",
    "\n",
    "Given the following similar sets of code, what will each code snippet print?"
   ]
  },
  {
   "cell_type": "code",
   "execution_count": 3,
   "metadata": {},
   "outputs": [
    {
     "name": "stdout",
     "output_type": "stream",
     "text": [
      "one is: ['one']\n",
      "two is: ['two']\n",
      "three is: ['three']\n"
     ]
    }
   ],
   "source": [
    "def mess_with_vars(one, two, three):\n",
    "    one = two\n",
    "    two = three\n",
    "    three = one\n",
    "\n",
    "one = [\"one\"]\n",
    "two = [\"two\"]\n",
    "three = [\"three\"]\n",
    "\n",
    "mess_with_vars(one, two, three)\n",
    "\n",
    "print(f\"one is: {one}\")\n",
    "print(f\"two is: {two}\")\n",
    "print(f\"three is: {three}\")"
   ]
  },
  {
   "cell_type": "markdown",
   "metadata": {},
   "source": [
    "- one is: one\n",
    "- two is: two\n",
    "- three is: three\n",
    "\n",
    "one two and three are each lists with a single entry. \n",
    "\n",
    "Inside the mess_with_vars function, local variabl one is assigned to two, two is assigned to three, and three is assigned to one. Local variables one, two and three are created within the function. The lists that were entered as arguments and passed by reference were not mutated. The assignments of the local variables within the function doesn't change the global one, two and three variables."
   ]
  },
  {
   "cell_type": "code",
   "execution_count": 4,
   "metadata": {},
   "outputs": [
    {
     "name": "stdout",
     "output_type": "stream",
     "text": [
      "one is: ['one']\n",
      "two is: ['two']\n",
      "three is: ['three']\n"
     ]
    }
   ],
   "source": [
    "def mess_with_vars(one, two, three):\n",
    "    one = [\"two\"]\n",
    "    two = [\"three\"]\n",
    "    three = [\"one\"]\n",
    "\n",
    "one = [\"one\"]\n",
    "two = [\"two\"]\n",
    "three = [\"three\"]\n",
    "\n",
    "mess_with_vars(one, two, three)\n",
    "\n",
    "print(f\"one is: {one}\")\n",
    "print(f\"two is: {two}\")\n",
    "print(f\"three is: {three}\")"
   ]
  },
  {
   "cell_type": "markdown",
   "metadata": {},
   "source": [
    "Again, one, two and three inside the function are initiated as local variables. The originals are not mutated. So the same will be printed as the previous function."
   ]
  },
  {
   "cell_type": "code",
   "execution_count": 5,
   "metadata": {},
   "outputs": [
    {
     "name": "stdout",
     "output_type": "stream",
     "text": [
      "one is: ['two']\n",
      "two is: ['three']\n",
      "three is: ['one']\n"
     ]
    }
   ],
   "source": [
    "def mess_with_vars(one, two, three):\n",
    "    one[0] = \"two\"\n",
    "    two[0] = \"three\"\n",
    "    three[0] = \"one\"\n",
    "\n",
    "one = [\"one\"]\n",
    "two = [\"two\"]\n",
    "three = [\"three\"]\n",
    "\n",
    "mess_with_vars(one, two, three)\n",
    "\n",
    "print(f\"one is: {one}\")\n",
    "print(f\"two is: {two}\")\n",
    "print(f\"three is: {three}\")"
   ]
  },
  {
   "cell_type": "markdown",
   "metadata": {},
   "source": [
    "Here we finally have a situation in which the lists passed as arguments into the mess_with_vars function are being mutated within the function through reassignment at index 0. Because the references to the lists were passed as arguments into the function (not copies of the lists's values), the local variables one, two and three are referencing the same object at index 0 as the global variables one, two and three. The reassignment of the object being referenced at that index within the function carries over to the global one, two and three variables because they both point to the same location in memory for their index[0]. This is possible because lists are mutable objects. The objects referenced at each index within a list are allowed to change while the list remains the same object.\n",
    "\n",
    "The output will be:\n",
    "\n",
    "one is: two\n",
    "two is: three\n",
    "three is: one"
   ]
  },
  {
   "cell_type": "markdown",
   "metadata": {},
   "source": [
    "### Question 4\n",
    "\n",
    "Ben was tasked to write a simple Python function to determine whether an input string is an IP address using 4 dot-separated numbers, e.g., 10.4.5.11.\n",
    "\n",
    "Alyssa supplied Ben with a function named is_an_ip_number. It determines whether a string is a numeric string between 0 and 255 as required for IP numbers and asked Ben to use it. Here's the code that Ben wrote:"
   ]
  },
  {
   "cell_type": "code",
   "execution_count": 7,
   "metadata": {},
   "outputs": [],
   "source": [
    "def is_dot_separated_ip_address(input_string):\n",
    "    dot_separated_words = input_string.split(\".\")\n",
    "    while len(dot_separated_words) > 0:\n",
    "        word = dot_separated_words.pop()\n",
    "        if not is_an_ip_number(word):\n",
    "            break\n",
    "\n",
    "    return True"
   ]
  },
  {
   "cell_type": "markdown",
   "metadata": {},
   "source": [
    "Alyssa reviewed Ben's code and said, \"It's a good start, but you missed a few things. You're not returning a false condition, and you're not handling the case when the input string has more or less than 4 components, e.g., 4.5.5 or 1.2.3.4.5: both those values should be invalid.\"\n",
    "\n",
    "Help Ben fix his code."
   ]
  },
  {
   "cell_type": "code",
   "execution_count": 26,
   "metadata": {},
   "outputs": [],
   "source": [
    "def is_an_ip_number(string):\n",
    "   return 0 <= int(string) <= 255\n",
    "\n",
    "def is_dot_separated_ip_address(input_string):\n",
    "    dot_separated_words = input_string.split(\".\")\n",
    "    if len(dot_separated_words) != 4:\n",
    "        return False\n",
    "    else:\n",
    "        for word in dot_separated_words:\n",
    "            if not is_an_ip_number(word):\n",
    "                return False\n",
    "        return True\n"
   ]
  },
  {
   "cell_type": "code",
   "execution_count": 29,
   "metadata": {},
   "outputs": [
    {
     "data": {
      "text/plain": [
       "False"
      ]
     },
     "execution_count": 29,
     "metadata": {},
     "output_type": "execute_result"
    }
   ],
   "source": [
    "is_dot_separated_ip_address('1.4.255.2.4')"
   ]
  },
  {
   "cell_type": "markdown",
   "metadata": {},
   "source": [
    "### Question 5\n",
    "\n",
    "What do you expect to happen when the greeting variable is referenced in the last line of the code below?"
   ]
  },
  {
   "cell_type": "code",
   "execution_count": 30,
   "metadata": {},
   "outputs": [
    {
     "ename": "NameError",
     "evalue": "name 'greeting' is not defined",
     "output_type": "error",
     "traceback": [
      "\u001b[0;31m---------------------------------------------------------------------------\u001b[0m",
      "\u001b[0;31mNameError\u001b[0m                                 Traceback (most recent call last)",
      "Cell \u001b[0;32mIn[30], line 4\u001b[0m\n\u001b[1;32m      1\u001b[0m \u001b[38;5;28;01mif\u001b[39;00m \u001b[38;5;28;01mFalse\u001b[39;00m:\n\u001b[1;32m      2\u001b[0m     greeting \u001b[38;5;241m=\u001b[39m \u001b[38;5;124m\"\u001b[39m\u001b[38;5;124mhello world\u001b[39m\u001b[38;5;124m\"\u001b[39m\n\u001b[0;32m----> 4\u001b[0m \u001b[38;5;28mprint\u001b[39m(\u001b[43mgreeting\u001b[49m)\n",
      "\u001b[0;31mNameError\u001b[0m: name 'greeting' is not defined"
     ]
    }
   ],
   "source": [
    "if False:\n",
    "    greeting = \"hello world\"\n",
    "\n",
    "print(greeting)"
   ]
  },
  {
   "cell_type": "markdown",
   "metadata": {},
   "source": [
    "a name error, because greeting was never initiated. "
   ]
  },
  {
   "cell_type": "code",
   "execution_count": 34,
   "metadata": {},
   "outputs": [
    {
     "data": {
      "text/plain": [
       "'Hsefsaefja heslek sdsf. hello there. my name is sofia. hi.'"
      ]
     },
     "execution_count": 34,
     "metadata": {},
     "output_type": "execute_result"
    }
   ],
   "source": [
    "string = \"hsefsaefja heslek sdsf. Hello there. my name is sofia. hi.\"\n",
    "\n",
    "string.capitalize()"
   ]
  },
  {
   "cell_type": "code",
   "execution_count": 40,
   "metadata": {},
   "outputs": [
    {
     "data": {
      "text/plain": [
       "False"
      ]
     },
     "execution_count": 40,
     "metadata": {},
     "output_type": "execute_result"
    }
   ],
   "source": [
    "string = \"hi234 \"\n",
    "\n",
    "string.isalnum()"
   ]
  },
  {
   "cell_type": "code",
   "execution_count": 44,
   "metadata": {},
   "outputs": [
    {
     "name": "stdout",
     "output_type": "stream",
     "text": [
      "emememe mmmemememe ememememmmm oooeoeoeoeoooo\n"
     ]
    }
   ],
   "source": [
    "string = \"mmmememememmmm\"\n",
    "\n",
    "print(string.strip('m'), string.rstrip('m'), string.lstrip('m'), string.replace('m','o'))"
   ]
  }
 ],
 "metadata": {
  "kernelspec": {
   "display_name": "Python 3",
   "language": "python",
   "name": "python3"
  },
  "language_info": {
   "codemirror_mode": {
    "name": "ipython",
    "version": 3
   },
   "file_extension": ".py",
   "mimetype": "text/x-python",
   "name": "python",
   "nbconvert_exporter": "python",
   "pygments_lexer": "ipython3",
   "version": "3.12.5"
  }
 },
 "nbformat": 4,
 "nbformat_minor": 2
}
