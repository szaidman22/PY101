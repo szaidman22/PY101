{
 "cells": [
  {
   "cell_type": "markdown",
   "metadata": {},
   "source": [
    "### In Reference to Question 7, Medium Problems 1"
   ]
  },
  {
   "cell_type": "markdown",
   "metadata": {},
   "source": [
    "Python is a \"pass by object reference language\". This means that an object's reference (pointer) is what is passed into a function. Let's take a very simple example:"
   ]
  },
  {
   "cell_type": "code",
   "execution_count": 39,
   "metadata": {},
   "outputs": [
    {
     "name": "stdout",
     "output_type": "stream",
     "text": [
      "The value of my_object = 100\n",
      "The location of my_object is 4400606888\n"
     ]
    }
   ],
   "source": [
    "my_object = 100\n",
    "\n",
    "print(f\"The value of {my_object = }\\n\"\n",
    "      f\"The location of my_object is {id(my_object)}\")"
   ]
  },
  {
   "cell_type": "markdown",
   "metadata": {},
   "source": [
    "A variable named my_object is initiated with the numeric value 100. This is an immutable object, as the numeric value 100 cannot be changed. The value is stored at a specific location in memory, which the variable name my_object references."
   ]
  },
  {
   "cell_type": "code",
   "execution_count": 53,
   "metadata": {},
   "outputs": [
    {
     "name": "stdout",
     "output_type": "stream",
     "text": [
      "The value of object_in_function = 100\n",
      "The location of object_in_function is 4400606888\n",
      "\n",
      "The value of object_in_function = 103\n",
      "The location of object_in_function is 4400606984\n",
      "\n",
      "The value of new_object = 103\n",
      "The location of object_in_function is 4400606984\n",
      "\n",
      "The value of one_oh_three = 103\n",
      "The location of object_in_function is 4400606984\n",
      "\n",
      "Are new_object and object_in_function the same object? True\n",
      "Are one_oh_three and object_in_function the same object? True\n"
     ]
    }
   ],
   "source": [
    "def object_changer(object_in_function):\n",
    "    print(f\"The value of {object_in_function = }\\n\"\n",
    "          f\"The location of object_in_function is {id(object_in_function)}\\n\")\n",
    "    \n",
    "    object_in_function += 3\n",
    "    print(f\"The value of {object_in_function = }\\n\"\n",
    "          f\"The location of object_in_function is {id(object_in_function)}\\n\")\n",
    "    \n",
    "    new_object = object_in_function\n",
    "    print(f\"The value of {new_object = }\\n\"\n",
    "          f\"The location of object_in_function is {id(new_object)}\\n\")\n",
    "    \n",
    "    one_oh_three = 103\n",
    "    print(f\"The value of {one_oh_three = }\\n\"\n",
    "          f\"The location of object_in_function is {id(one_oh_three)}\\n\")\n",
    "    \n",
    "    print(f\"Are new_object and object_in_function the same object? {new_object is object_in_function}\")\n",
    "    print(f\"Are one_oh_three and object_in_function the same object? {one_oh_three is object_in_function}\")\n",
    "\n",
    "object_changer(my_object)"
   ]
  },
  {
   "cell_type": "markdown",
   "metadata": {},
   "source": [
    "A function called object_changer is defined. The function has one parameter. It takes one object/variable as input. The function prints the value of the variable entered as an argument, as well as the location in memory that that value is stored.\n",
    "\n",
    "The function then reassigns the value of the object to the old value + 3. The function prints the new value and the location in memory (reference) to the new value. \n",
    "\n",
    "We see that the variable name within the function has not changed, but the value has changed. Because numbers are not mutable objects, the corresponding object being referenced has changed as well. Though the variable is still named my_object, it is pointing to a different object in memory (object with value 103 rather than 100)."
   ]
  },
  {
   "cell_type": "code",
   "execution_count": 147,
   "metadata": {},
   "outputs": [
    {
     "name": "stdout",
     "output_type": "stream",
     "text": [
      "The value of my_nested_list = [[1, 2, 3], [1, 2, 3], [1, 2, 3]]\n",
      "The location of my_nested_list is 4586115840\n",
      "\n",
      "The value of 0 nested_list = [1, 2, 3]\n",
      "The location of nested_list is 4586088576\n",
      "The location of 1 is 4400603720\n",
      "The location of 2 is 4400603752\n",
      "The location of 3 is 4400603784\n",
      "\n",
      "The value of 1 nested_list = [1, 2, 3]\n",
      "The location of nested_list is 4585469504\n",
      "The location of 1 is 4400603720\n",
      "The location of 2 is 4400603752\n",
      "The location of 3 is 4400603784\n",
      "\n",
      "The value of 2 nested_list = [1, 2, 3]\n",
      "The location of nested_list is 4586118528\n",
      "The location of 1 is 4400603720\n",
      "The location of 2 is 4400603752\n",
      "The location of 3 is 4400603784\n",
      "\n"
     ]
    }
   ],
   "source": [
    "my_nested_list = [[1, 2, 3],\n",
    "                  [1, 2, 3],\n",
    "                  [1, 2, 3]]\n",
    "\n",
    "print(f\"The value of {my_nested_list = }\\n\"\n",
    "      f\"The location of my_nested_list is {id(my_nested_list)}\\n\")\n",
    "\n",
    "for index, nested_list in enumerate(my_nested_list):\n",
    "    print(f\"The value of {index} {nested_list = }\\n\"\n",
    "          f\"The location of nested_list is {id(nested_list)}\")\n",
    "    for number in nested_list:\n",
    "        print(f\"The location of {number} is {id(number)}\")\n",
    "    print()"
   ]
  },
  {
   "cell_type": "code",
   "execution_count": 148,
   "metadata": {},
   "outputs": [
    {
     "name": "stdout",
     "output_type": "stream",
     "text": [
      "[[1, 2, 3], [1, 2, 3], [1, 2, 3]]\n",
      "Object reference: 4586115840\n",
      "[[100, 200, 300], [1, 2, 3], [1, 2, 3]]\n",
      "Object reference: 4586115840\n",
      "The value of 0 nested_list = [100, 200, 300]\n",
      "The location of nested_list is 4586079744\n",
      "The value of 1 nested_list = [1, 2, 3]\n",
      "The location of nested_list is 4585469504\n",
      "The value of 2 nested_list = [1, 2, 3]\n",
      "The location of nested_list is 4586118528\n",
      "[1, 2, 3]\n",
      "Object reference: 4586088576\n",
      "[1, [700, 800, 900], 3]\n",
      "Object reference: 4586088576\n"
     ]
    }
   ],
   "source": [
    "def list_changer(list):\n",
    "    print(list)\n",
    "    print(f\"Object reference: {id(list)}\")\n",
    "    #because list is mutable, this doesn't create a new list object, it mutates the original object that was passed as an argument.\n",
    "    list[0] = [100,200,300]\n",
    "    print(list)\n",
    "    print(f\"Object reference: {id(list)}\")\n",
    "    for index, nested_list in enumerate(my_nested_list):\n",
    "        print(f\"The value of {index} {nested_list = }\\n\"\n",
    "                f\"The location of nested_list is {id(nested_list)}\")\n",
    "\n",
    "    #this is initiating a new variable within the function; it doesn't alter the original object\n",
    "    list = [1,2,3]\n",
    "    print(list)\n",
    "    print(f\"Object reference: {id(list)}\")\n",
    "\n",
    "    list[1] = [700,800,900]\n",
    "    print(list)\n",
    "    print(f\"Object reference: {id(list)}\")\n",
    "\n",
    "list_changer(my_nested_list)"
   ]
  },
  {
   "cell_type": "code",
   "execution_count": 146,
   "metadata": {},
   "outputs": [
    {
     "name": "stdout",
     "output_type": "stream",
     "text": [
      "[[100, 200, 300], [1, 2, 3], [1, 2, 3]]\n",
      "Object reference: 4585513792\n",
      "The value of 0 nested_list = [100, 200, 300]\n",
      "The location of nested_list is 4585883520\n",
      "The value of 1 nested_list = [1, 2, 3]\n",
      "The location of nested_list is 4585989440\n",
      "The value of 2 nested_list = [1, 2, 3]\n",
      "The location of nested_list is 4585449920\n"
     ]
    }
   ],
   "source": [
    "my_nested_list\n",
    "print(my_nested_list)\n",
    "print(f\"Object reference: {id(my_nested_list)}\")\n",
    "for index, nested_list in enumerate(my_nested_list):\n",
    "        print(f\"The value of {index} {nested_list = }\\n\"\n",
    "                f\"The location of nested_list is {id(nested_list)}\")\n"
   ]
  },
  {
   "cell_type": "code",
   "execution_count": 151,
   "metadata": {},
   "outputs": [
    {
     "name": "stdout",
     "output_type": "stream",
     "text": [
      "False\n",
      "True\n",
      "True\n",
      "True\n",
      "True\n",
      "True\n",
      "True\n"
     ]
    }
   ],
   "source": [
    "dict1 = {\n",
    "    'a': [{7, 1}, ['aa', 'aaa']],\n",
    "    'b': ({3, 2}, ['bb', 'bbb']),\n",
    "}\n",
    "\n",
    "dict2 = dict(dict1)\n",
    "\n",
    "print(dict1         is dict2)           # False\n",
    "print(dict1['a']    is dict2['a'])      # True\n",
    "print(dict1['a'][0] is dict2['a'][0])   # True\n",
    "print(dict1['a'][1] is dict2['a'][1])   # True\n",
    "print(dict1['b']    is dict2['b'])      # True\n",
    "print(dict1['b'][0] is dict2['b'][0])   # True\n",
    "print(dict1['b'][1] is dict2['b'][1])   # True"
   ]
  },
  {
   "cell_type": "code",
   "execution_count": 152,
   "metadata": {},
   "outputs": [
    {
     "data": {
      "text/plain": [
       "True"
      ]
     },
     "execution_count": 152,
     "metadata": {},
     "output_type": "execute_result"
    }
   ],
   "source": [
    "my_tup = (0,2)\n",
    "\n",
    "isinstance(my_tup, tuple)"
   ]
  },
  {
   "cell_type": "code",
   "execution_count": 162,
   "metadata": {},
   "outputs": [
    {
     "name": "stdout",
     "output_type": "stream",
     "text": [
      "(0, 2)\n",
      "my_tup reference: 4586240384\n",
      "0 reference: 4400603688\n",
      "2 reference: 4400603752\n"
     ]
    }
   ],
   "source": [
    "print(my_tup)\n",
    "print(f\"my_tup reference: {id(my_tup)}\")\n",
    "for x in my_tup:\n",
    "    print(f\"{x} reference: {id(x)}\")\n"
   ]
  },
  {
   "cell_type": "code",
   "execution_count": 168,
   "metadata": {},
   "outputs": [],
   "source": [
    "def change_tup(my_tup):\n",
    "    my_tup = (3,2)\n",
    "    print(my_tup)\n",
    "    print(f\"my_tup reference: {id(my_tup)}\")\n",
    "    for x in my_tup:\n",
    "        print(f\"{x} reference: {id(x)}\")\n"
   ]
  },
  {
   "cell_type": "code",
   "execution_count": 169,
   "metadata": {},
   "outputs": [
    {
     "name": "stdout",
     "output_type": "stream",
     "text": [
      "(3, 2)\n",
      "my_tup reference: 4586322240\n",
      "3 reference: 4400603784\n",
      "2 reference: 4400603752\n",
      "(0, 2)\n",
      "my_tup reference: 4586240384\n",
      "0 reference: 4400603688\n",
      "2 reference: 4400603752\n"
     ]
    }
   ],
   "source": [
    "change_tup(my_tup)\n",
    "print(my_tup)\n",
    "print(f\"my_tup reference: {id(my_tup)}\")\n",
    "for x in my_tup:\n",
    "    print(f\"{x} reference: {id(x)}\")\n"
   ]
  }
 ],
 "metadata": {
  "kernelspec": {
   "display_name": "Python 3",
   "language": "python",
   "name": "python3"
  },
  "language_info": {
   "codemirror_mode": {
    "name": "ipython",
    "version": 3
   },
   "file_extension": ".py",
   "mimetype": "text/x-python",
   "name": "python",
   "nbconvert_exporter": "python",
   "pygments_lexer": "ipython3",
   "version": "3.12.5"
  }
 },
 "nbformat": 4,
 "nbformat_minor": 2
}
