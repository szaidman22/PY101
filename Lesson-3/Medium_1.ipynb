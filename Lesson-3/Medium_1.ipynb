{
 "cells": [
  {
   "cell_type": "markdown",
   "metadata": {},
   "source": [
    "### Question 1\n",
    "Let's do some \"ASCII Art\": a stone-age form of nerd artwork from back in the days before computers had video screens.\n",
    "\n",
    "For this practice problem, write a program that outputs The Flintstones Rock! 10 times, with each line prefixed by one more hyphen than the line above it. The output should start out like this:\n",
    "\n",
    "```python\n",
    "-The Flintstones Rock!\n",
    "--The Flintstones Rock!\n",
    "---The Flintstones Rock!\n",
    "    ...\n",
    "```"
   ]
  },
  {
   "cell_type": "code",
   "execution_count": 2,
   "metadata": {},
   "outputs": [
    {
     "name": "stdout",
     "output_type": "stream",
     "text": [
      "-The Flintstones Rock!\n",
      "--The Flintstones Rock!\n",
      "---The Flintstones Rock!\n",
      "----The Flintstones Rock!\n",
      "-----The Flintstones Rock!\n",
      "------The Flintstones Rock!\n",
      "-------The Flintstones Rock!\n",
      "--------The Flintstones Rock!\n",
      "---------The Flintstones Rock!\n",
      "----------The Flintstones Rock!\n"
     ]
    }
   ],
   "source": [
    "MESSAGE = 'The Flintstones Rock!'\n",
    "\n",
    "for x in range(1,11):\n",
    "    print((x * '-') + MESSAGE)"
   ]
  },
  {
   "cell_type": "code",
   "execution_count": 3,
   "metadata": {},
   "outputs": [
    {
     "name": "stdout",
     "output_type": "stream",
     "text": [
      "-The Flintstones Rock!\n",
      "--The Flintstones Rock!\n",
      "---The Flintstones Rock!\n",
      "----The Flintstones Rock!\n",
      "-----The Flintstones Rock!\n",
      "------The Flintstones Rock!\n",
      "-------The Flintstones Rock!\n",
      "--------The Flintstones Rock!\n",
      "---------The Flintstones Rock!\n",
      "----------The Flintstones Rock!\n"
     ]
    }
   ],
   "source": [
    "message = 'The Flintstones Rock!'\n",
    "\n",
    "for _ in range(1,11):\n",
    "    message = '-' + message\n",
    "    print(message)"
   ]
  },
  {
   "cell_type": "markdown",
   "metadata": {},
   "source": [
    "### Question 2\n",
    "Alan wrote the following function, which was intended to return all of the factors of number:"
   ]
  },
  {
   "cell_type": "code",
   "execution_count": 4,
   "metadata": {},
   "outputs": [],
   "source": [
    "def factors(number):\n",
    "    divisor = number\n",
    "    result = []\n",
    "    while divisor != 0:\n",
    "        if number % divisor == 0:\n",
    "            result.append(number // divisor)\n",
    "        divisor -= 1\n",
    "    return result"
   ]
  },
  {
   "cell_type": "markdown",
   "metadata": {},
   "source": [
    "Alyssa noticed that this code would fail when the input is a negative number, and asked Alan to change the loop. How can he make this work? Note that we're not looking to find the factors for negative numbers, but we want to handle it gracefully instead of going into an infinite loop.\n",
    "\n",
    "Bonus Question: What is the purpose of number % divisor == 0 in that code?"
   ]
  },
  {
   "cell_type": "code",
   "execution_count": 6,
   "metadata": {},
   "outputs": [],
   "source": [
    "def factors(number):\n",
    "    divisor = number\n",
    "    result = []\n",
    "    while divisor > 0:\n",
    "        if number % divisor == 0:\n",
    "            result.append(number // divisor)\n",
    "        divisor -= 1\n",
    "    return result"
   ]
  },
  {
   "cell_type": "code",
   "execution_count": 15,
   "metadata": {},
   "outputs": [
    {
     "data": {
      "text/plain": [
       "[1, 3, 9, 11, 33, 99, 101, 303, 909, 1111, 3333, 9999]"
      ]
     },
     "execution_count": 15,
     "metadata": {},
     "output_type": "execute_result"
    }
   ],
   "source": [
    "factors(9999)"
   ]
  },
  {
   "cell_type": "markdown",
   "metadata": {},
   "source": [
    "The purpose of number % divisor == 0:\n",
    "\n",
    "This line checks to see if the number entered into the function is evenly divisible by the divisor being tested, using the modulo operator. number % divisor is 0, there is no remainder and the number is divisible by the divisor. "
   ]
  },
  {
   "cell_type": "markdown",
   "metadata": {},
   "source": [
    "### Question 3\n",
    "\n",
    "Alyssa was asked to write an implementation of a rolling buffer. You can add and remove elements from a rolling buffer. However, once the buffer becomes full, any new elements will displace the oldest elements in the buffer.\n",
    "\n",
    "She wrote two implementations of the code for adding elements to the buffer:"
   ]
  },
  {
   "cell_type": "code",
   "execution_count": 16,
   "metadata": {},
   "outputs": [],
   "source": [
    "def add_to_rolling_buffer1(buffer, max_buffer_size, new_element):\n",
    "    buffer.append(new_element)\n",
    "    if len(buffer) > max_buffer_size:\n",
    "        buffer.pop(0)\n",
    "    return buffer\n",
    "\n",
    "def add_to_rolling_buffer2(buffer, max_buffer_size, new_element):\n",
    "    buffer = buffer + [new_element]\n",
    "    if len(buffer) > max_buffer_size:\n",
    "        buffer.pop(0)\n",
    "    return buffer"
   ]
  },
  {
   "cell_type": "markdown",
   "metadata": {},
   "source": [
    "What is the key difference between these implementations?"
   ]
  },
  {
   "cell_type": "markdown",
   "metadata": {},
   "source": [
    "The difference is buffer.append(new_element) vs. buffer = buffer + new_element.\n",
    "\n",
    "The first way adds the new element to the existing buffer object. It mutates the buffer object.\n",
    "\n",
    "the second way initiates a new object in memory called buffer that has the values in the old buffer object in addition to the new element."
   ]
  },
  {
   "cell_type": "markdown",
   "metadata": {},
   "source": [
    "### Question 5\n",
    "\n",
    "What do you think the following code will output?"
   ]
  },
  {
   "cell_type": "code",
   "execution_count": 20,
   "metadata": {},
   "outputs": [
    {
     "data": {
      "text/plain": [
       "nan"
      ]
     },
     "execution_count": 20,
     "metadata": {},
     "output_type": "execute_result"
    }
   ],
   "source": [
    "nan_value = float(\"nan\")\n",
    "\n",
    "nan_value"
   ]
  },
  {
   "cell_type": "code",
   "execution_count": 18,
   "metadata": {},
   "outputs": [
    {
     "name": "stdout",
     "output_type": "stream",
     "text": [
      "False\n"
     ]
    }
   ],
   "source": [
    "print(nan_value == float(\"nan\"))"
   ]
  },
  {
   "cell_type": "markdown",
   "metadata": {},
   "source": [
    "How can you reliably test if a value is nan?\n",
    "\n",
    "- use math.isnan()"
   ]
  },
  {
   "cell_type": "code",
   "execution_count": 189,
   "metadata": {},
   "outputs": [],
   "source": [
    "munsters = {\n",
    "    \"Herman\": 32,\n",
    "    \"Lily\": 30,\n",
    "    \"Grandpa\": 402,\n",
    "    \"Eddie\": 10,\n",
    "    \"Marilyn\": 23,\n",
    "}\n",
    "\n",
    "def mess_with_demographics(demo_dict):\n",
    "    print(id(demo_dict))\n",
    "    for key, value in demo_dict.items():\n",
    "        demo_dict[key] += 42\n",
    "        print(id(key), id(value), value, id(demo_dict[key]), demo_dict[key])"
   ]
  },
  {
   "cell_type": "code",
   "execution_count": 190,
   "metadata": {},
   "outputs": [
    {
     "name": "stdout",
     "output_type": "stream",
     "text": [
      "4503116608\n",
      "4497158960 4331546152 32\n",
      "4497147056 4331546088 30\n",
      "4497146000 4502691600 402\n",
      "4497148832 4331545448 10\n",
      "4497158624 4331545864 23\n"
     ]
    }
   ],
   "source": [
    "print(id(munsters))\n",
    "for key, value in munsters.items():\n",
    "    print(id(key), id(value), value)"
   ]
  },
  {
   "cell_type": "code",
   "execution_count": 191,
   "metadata": {},
   "outputs": [
    {
     "name": "stdout",
     "output_type": "stream",
     "text": [
      "4503116608\n",
      "4497158960 4331546152 32 4331547496 74\n",
      "4497147056 4331546088 30 4331547432 72\n",
      "4497146000 4502691600 402 4502691984 444\n",
      "4497148832 4331545448 10 4331546792 52\n",
      "4497158624 4331545864 23 4331547208 65\n"
     ]
    }
   ],
   "source": [
    "mess_with_demographics(munsters)"
   ]
  },
  {
   "cell_type": "code",
   "execution_count": 193,
   "metadata": {},
   "outputs": [
    {
     "data": {
      "text/plain": [
       "{'Herman': 74, 'Lily': 72, 'Grandpa': 444, 'Eddie': 52, 'Marilyn': 65}"
      ]
     },
     "execution_count": 193,
     "metadata": {},
     "output_type": "execute_result"
    }
   ],
   "source": [
    "munsters"
   ]
  },
  {
   "cell_type": "code",
   "execution_count": 169,
   "metadata": {},
   "outputs": [
    {
     "name": "stdout",
     "output_type": "stream",
     "text": [
      "4503123968\n",
      "4497158960 4331546472 42\n",
      "4497147056 4331546472 42\n",
      "4497146000 4331546472 42\n",
      "4497148832 4331546472 42\n",
      "4497158624 4331546472 42\n"
     ]
    }
   ],
   "source": [
    "print(id(munsters))\n",
    "for key, value in munsters.items():\n",
    "    print(id(key), id(value), value)"
   ]
  },
  {
   "cell_type": "code",
   "execution_count": 107,
   "metadata": {},
   "outputs": [],
   "source": [
    "def add_key(demo_dict):\n",
    "    print(id(demo_dict))\n",
    "    demo_dict['new person'] = 89"
   ]
  },
  {
   "cell_type": "code",
   "execution_count": 108,
   "metadata": {},
   "outputs": [
    {
     "name": "stdout",
     "output_type": "stream",
     "text": [
      "4502111232\n"
     ]
    },
    {
     "data": {
      "text/plain": [
       "{'Herman': 32,\n",
       " 'Lily': 5,\n",
       " 'Grandpa': 3,\n",
       " 'Eddie': 10,\n",
       " 'Marilyn': 23,\n",
       " 'new person': 89}"
      ]
     },
     "execution_count": 108,
     "metadata": {},
     "output_type": "execute_result"
    }
   ],
   "source": [
    "add_key(munsters)\n",
    "\n",
    "munsters"
   ]
  },
  {
   "cell_type": "code",
   "execution_count": 196,
   "metadata": {},
   "outputs": [],
   "source": [
    "munsters = [32, 30, 402, 10, 23]\n",
    "\n",
    "def mess_with_demographics(demo_list):\n",
    "    print(id(demo_list))\n",
    "    for age in range(len(demo_list)):\n",
    "        print(id(demo_list[age]), demo_list[age])\n",
    "        demo_list[age] += 44\n",
    "        print(id(demo_list[age]), demo_list[age])\n",
    "\n"
   ]
  },
  {
   "cell_type": "code",
   "execution_count": 197,
   "metadata": {},
   "outputs": [
    {
     "name": "stdout",
     "output_type": "stream",
     "text": [
      "4502753536\n",
      "4331546152 32\n",
      "4331546088 30\n",
      "4502692272 402\n",
      "4331545448 10\n",
      "4331545864 23\n"
     ]
    }
   ],
   "source": [
    "print(id(munsters))\n",
    "for x in munsters:\n",
    "    print(id(x), x)"
   ]
  },
  {
   "cell_type": "code",
   "execution_count": 198,
   "metadata": {},
   "outputs": [
    {
     "name": "stdout",
     "output_type": "stream",
     "text": [
      "4502753536\n",
      "4331546152 32\n",
      "4331547560 76\n",
      "4331546088 30\n",
      "4331547496 74\n",
      "4502692272 402\n",
      "4502691920 446\n",
      "4331545448 10\n",
      "4331546856 54\n",
      "4331545864 23\n",
      "4331547272 67\n"
     ]
    }
   ],
   "source": [
    "mess_with_demographics(munsters)"
   ]
  },
  {
   "cell_type": "code",
   "execution_count": 199,
   "metadata": {},
   "outputs": [
    {
     "name": "stdout",
     "output_type": "stream",
     "text": [
      "4502753536\n",
      "4331547560 76\n",
      "4331547496 74\n",
      "4502691920 446\n",
      "4331546856 54\n",
      "4331547272 67\n"
     ]
    }
   ],
   "source": [
    "print(id(munsters))\n",
    "for x in munsters:\n",
    "    print(id(x), x)"
   ]
  },
  {
   "cell_type": "code",
   "execution_count": 119,
   "metadata": {},
   "outputs": [],
   "source": [
    "munsters = {\n",
    "    \"Herman\": {\"age\": 32, \"gender\": \"male\"},\n",
    "    \"Lily\": {\"age\": 30, \"gender\": \"female\"},\n",
    "    \"Grandpa\": {\"age\": 402, \"gender\": \"male\"},\n",
    "    \"Eddie\": {\"age\": 10, \"gender\": \"male\"},\n",
    "    \"Marilyn\": {\"age\": 23, \"gender\": \"female\"},\n",
    "}\n",
    "\n",
    "def mess_with_demographics(demo_dict):\n",
    "    for value in demo_dict:\n",
    "        print(id(value))\n",
    "    for key, value in demo_dict.items():\n",
    "        value[\"age\"] += 42\n",
    "        value[\"gender\"] = \"other\"\n",
    "        print(f\"Age id for {key} is {id(value[\"age\"])}\")\n",
    "        print(f\"Gender id for {key} is {id(value[\"gender\"])}\")"
   ]
  },
  {
   "cell_type": "code",
   "execution_count": 120,
   "metadata": {},
   "outputs": [
    {
     "name": "stdout",
     "output_type": "stream",
     "text": [
      "4497158960\n",
      "4497147056\n",
      "4497146000\n",
      "4497148832\n",
      "4497158624\n",
      "Age id for Herman is 4331546152\n",
      "Gender id for Herman is 4497161792\n",
      "Age id for Lily is 4331546088\n",
      "Gender id for Lily is 4497149024\n",
      "Age id for Grandpa is 4502689456\n",
      "Gender id for Grandpa is 4497161792\n",
      "Age id for Eddie is 4331545448\n",
      "Gender id for Eddie is 4497161792\n",
      "Age id for Marilyn is 4331545864\n",
      "Gender id for Marilyn is 4497149024\n"
     ]
    }
   ],
   "source": [
    "for value in munsters:\n",
    "    print(id(value))\n",
    "for key, value in munsters.items():\n",
    "    print(f\"Age id for {key} is {id(value[\"age\"])}\")\n",
    "    print(f\"Gender id for {key} is {id(value[\"gender\"])}\")"
   ]
  },
  {
   "cell_type": "code",
   "execution_count": 121,
   "metadata": {},
   "outputs": [
    {
     "name": "stdout",
     "output_type": "stream",
     "text": [
      "4497158960\n",
      "4497147056\n",
      "4497146000\n",
      "4497148832\n",
      "4497158624\n",
      "Age id for Herman is 4331547496\n",
      "Gender id for Herman is 4330907472\n",
      "Age id for Lily is 4331547432\n",
      "Gender id for Lily is 4330907472\n",
      "Age id for Grandpa is 4502688208\n",
      "Gender id for Grandpa is 4330907472\n",
      "Age id for Eddie is 4331546792\n",
      "Gender id for Eddie is 4330907472\n",
      "Age id for Marilyn is 4331547208\n",
      "Gender id for Marilyn is 4330907472\n"
     ]
    }
   ],
   "source": [
    "mess_with_demographics(munsters)\n",
    "\n",
    "# munsters"
   ]
  },
  {
   "cell_type": "code",
   "execution_count": 83,
   "metadata": {},
   "outputs": [
    {
     "name": "stdout",
     "output_type": "stream",
     "text": [
      "4497158960\n",
      "4497147056\n",
      "4497146000\n",
      "4497148832\n",
      "4497158624\n",
      "Age id for Herman is 4331547496\n",
      "Gender id for Herman is 4330907472\n",
      "Age id for Lily is 4331547432\n",
      "Gender id for Lily is 4330907472\n",
      "Age id for Grandpa is 4502687632\n",
      "Gender id for Grandpa is 4330907472\n",
      "Age id for Eddie is 4331546792\n",
      "Gender id for Eddie is 4330907472\n",
      "Age id for Marilyn is 4331547208\n",
      "Gender id for Marilyn is 4330907472\n"
     ]
    }
   ],
   "source": [
    "for value in munsters:\n",
    "    print(id(value))\n",
    "for key, value in munsters.items():\n",
    "    print(f\"Age id for {key} is {id(value[\"age\"])}\")\n",
    "    print(f\"Gender id for {key} is {id(value[\"gender\"])}\")"
   ]
  },
  {
   "cell_type": "code",
   "execution_count": 37,
   "metadata": {},
   "outputs": [],
   "source": [
    "number = 4\n",
    "\n",
    "def change_number(number):\n",
    "    number += 43453\n",
    "    return number\n"
   ]
  },
  {
   "cell_type": "code",
   "execution_count": 38,
   "metadata": {},
   "outputs": [
    {
     "data": {
      "text/plain": [
       "4"
      ]
     },
     "execution_count": 38,
     "metadata": {},
     "output_type": "execute_result"
    }
   ],
   "source": [
    "change_number(number)\n",
    "\n",
    "number"
   ]
  },
  {
   "cell_type": "code",
   "execution_count": 39,
   "metadata": {},
   "outputs": [
    {
     "name": "stdout",
     "output_type": "stream",
     "text": [
      "43457\n"
     ]
    }
   ],
   "source": [
    "num2 = change_number(number)\n",
    "\n",
    "print(num2)"
   ]
  },
  {
   "cell_type": "code",
   "execution_count": 122,
   "metadata": {},
   "outputs": [
    {
     "name": "stdout",
     "output_type": "stream",
     "text": [
      "[6, 7, 8]\n"
     ]
    }
   ],
   "source": [
    "def add_constant(numbers, constant):\n",
    "    for i in range(len(numbers)):\n",
    "        numbers[i] += constant\n",
    "\n",
    "my_list = [1, 2, 3]\n",
    "add_constant(my_list, 5)\n",
    "\n",
    "print(my_list)  # Output: [6, 7, 8]\n"
   ]
  },
  {
   "cell_type": "markdown",
   "metadata": {},
   "source": [
    "### Question 8\n",
    "\n",
    "Function and method calls can take expressions as arguments. Suppose we define a function named rps as follows, which follows the classic rules of the rock-paper-scissors game, but with a slight twist: in the event of a tie, it just returns the choice made by both players."
   ]
  },
  {
   "cell_type": "code",
   "execution_count": 200,
   "metadata": {},
   "outputs": [],
   "source": [
    "def rps(fist1, fist2):\n",
    "    if fist1 == \"rock\":\n",
    "        return \"paper\" if fist2 == \"paper\" else \"rock\"\n",
    "    elif fist1 == \"paper\":\n",
    "        return \"scissors\" if fist2 == \"scissors\" else \"paper\"\n",
    "    else:\n",
    "        return \"rock\" if fist2 == \"rock\" else \"scissors\""
   ]
  },
  {
   "cell_type": "markdown",
   "metadata": {},
   "source": [
    "What does the following code output?"
   ]
  },
  {
   "cell_type": "code",
   "execution_count": 201,
   "metadata": {},
   "outputs": [
    {
     "name": "stdout",
     "output_type": "stream",
     "text": [
      "paper\n"
     ]
    }
   ],
   "source": [
    "print(rps(rps(rps(\"rock\", \"paper\"), rps(\"rock\", \"scissors\")), \"rock\"))"
   ]
  },
  {
   "cell_type": "markdown",
   "metadata": {},
   "source": [
    "Breaking this down, we have:\n",
    "\n",
    "rps(\"rock\", \"paper\") -> paper\n",
    "\n",
    "rps(\"rock\", \"scissors\") -> rock\n",
    "\n",
    "These are input as arguments into another rps function call, so:\n",
    "\n",
    "rps(\"paper\", \"rock\") -> paper\n",
    "\n",
    "then this ouput is passed as an argument into yet another rps call with rock, so\n",
    "\n",
    "rps(\"paper\", \"rock\") -> paper\n",
    "\n",
    "I think the output will be **paper**"
   ]
  },
  {
   "cell_type": "markdown",
   "metadata": {},
   "source": [
    "### Question 9\n",
    "\n",
    "Consider these two simple functions:"
   ]
  },
  {
   "cell_type": "code",
   "execution_count": 202,
   "metadata": {},
   "outputs": [],
   "source": [
    "def foo(param=\"no\"):\n",
    "    return \"yes\"\n",
    "\n",
    "def bar(param=\"no\"):\n",
    "    return (param == \"no\") and (foo() or \"no\")"
   ]
  },
  {
   "cell_type": "markdown",
   "metadata": {},
   "source": [
    "What will the following function invocation return?"
   ]
  },
  {
   "cell_type": "code",
   "execution_count": 203,
   "metadata": {},
   "outputs": [
    {
     "data": {
      "text/plain": [
       "False"
      ]
     },
     "execution_count": 203,
     "metadata": {},
     "output_type": "execute_result"
    }
   ],
   "source": [
    "bar(foo())"
   ]
  },
  {
   "cell_type": "markdown",
   "metadata": {},
   "source": [
    "foo() returns \"yes\"\n",
    "\n",
    "when foo() is passed into the function bar(), the argument \"yes\" is passed as the param parameter. So, param == \"no\" is False. The second side of the \"and\" logical operator won't even evalueate because False and anything will be False, so the function invocation will return False."
   ]
  },
  {
   "cell_type": "markdown",
   "metadata": {},
   "source": [
    "### Question 10\n",
    "\n",
    "In Python, every object has a unique identifier that can be accessed using the id() function. This function returns the identity of an object, which is guaranteed to be unique for the object's lifetime. For certain basic immutable data types like short strings or integers, Python might reuse the memory address for objects with the same value. This is known as \"interning\".\n",
    "\n",
    "Given the following code, predict the output:"
   ]
  },
  {
   "cell_type": "code",
   "execution_count": 204,
   "metadata": {},
   "outputs": [
    {
     "name": "stdout",
     "output_type": "stream",
     "text": [
      "True\n"
     ]
    }
   ],
   "source": [
    "a = 42\n",
    "b = 42\n",
    "c = a\n",
    "\n",
    "print(id(a) == id(b) == id(c))"
   ]
  },
  {
   "cell_type": "markdown",
   "metadata": {},
   "source": [
    "If interning took place, then I would expect this to print true. \n",
    "\n",
    "the variable a is initiated and assigned the value 42. The variable b is initiated and assigned the value 42. If python is only using one memory address to store an object with value 42, then a and b should both be pointing to the same address in memory, and their ids should be equivalent. \n",
    "\n",
    "a new variable c is initiated and set equal to the variable a. c should now be pointing to the same place in memory that a points to, which is also where b is pointing to if the object with value 42 is only saved in memory at one location."
   ]
  }
 ],
 "metadata": {
  "kernelspec": {
   "display_name": "Python 3",
   "language": "python",
   "name": "python3"
  },
  "language_info": {
   "codemirror_mode": {
    "name": "ipython",
    "version": 3
   },
   "file_extension": ".py",
   "mimetype": "text/x-python",
   "name": "python",
   "nbconvert_exporter": "python",
   "pygments_lexer": "ipython3",
   "version": "3.12.5"
  }
 },
 "nbformat": 4,
 "nbformat_minor": 2
}
