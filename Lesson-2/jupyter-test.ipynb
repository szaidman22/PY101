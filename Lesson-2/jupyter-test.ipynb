{
 "cells": [
  {
   "cell_type": "code",
   "execution_count": 3,
   "id": "257aed05-7a62-49a1-8a13-0444cfcd9623",
   "metadata": {},
   "outputs": [],
   "source": [
    "x = 8\n",
    "y = 9"
   ]
  },
  {
   "cell_type": "code",
   "execution_count": 4,
   "id": "042c2d7a-bad6-4047-8079-5167b9f72253",
   "metadata": {},
   "outputs": [
    {
     "name": "stdout",
     "output_type": "stream",
     "text": [
      "17\n"
     ]
    }
   ],
   "source": [
    "print(x + y)"
   ]
  },
  {
   "cell_type": "markdown",
   "id": "606140a6-8313-4b39-bd8b-eefe62333940",
   "metadata": {},
   "source": [
    "## markdown test"
   ]
  },
  {
   "cell_type": "code",
   "execution_count": 5,
   "id": "a3989d86-28ef-4724-9881-09e636d355ea",
   "metadata": {},
   "outputs": [
    {
     "name": "stdout",
     "output_type": "stream",
     "text": [
      "henlo\n"
     ]
    }
   ],
   "source": [
    "print(\"henlo\")"
   ]
  },
  {
   "cell_type": "code",
   "execution_count": null,
   "id": "d7a23932-bcaf-4491-bd93-405760132db0",
   "metadata": {},
   "outputs": [],
   "source": []
  }
 ],
 "metadata": {
  "kernelspec": {
   "display_name": "Python 3 (ipykernel)",
   "language": "python",
   "name": "python3"
  },
  "language_info": {
   "codemirror_mode": {
    "name": "ipython",
    "version": 3
   },
   "file_extension": ".py",
   "mimetype": "text/x-python",
   "name": "python",
   "nbconvert_exporter": "python",
   "pygments_lexer": "ipython3",
   "version": "3.12.2"
  }
 },
 "nbformat": 4,
 "nbformat_minor": 5
}
